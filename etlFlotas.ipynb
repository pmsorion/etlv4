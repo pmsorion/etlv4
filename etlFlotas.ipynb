{
  "nbformat": 4,
  "nbformat_minor": 0,
  "metadata": {
    "colab": {
      "name": "etlFlotas.ipynb",
      "provenance": [],
      "collapsed_sections": [],
      "authorship_tag": "ABX9TyOj+6HApOGHGmMN6XIVS8KM",
      "include_colab_link": true
    },
    "kernelspec": {
      "name": "python3",
      "display_name": "Python 3"
    },
    "language_info": {
      "name": "python"
    }
  },
  "cells": [
    {
      "cell_type": "markdown",
      "metadata": {
        "id": "view-in-github",
        "colab_type": "text"
      },
      "source": [
        "<a href=\"https://colab.research.google.com/github/pmsorion/etlv4/blob/main/etlFlotas.ipynb\" target=\"_parent\"><img src=\"https://colab.research.google.com/assets/colab-badge.svg\" alt=\"Open In Colab\"/></a>"
      ]
    },
    {
      "cell_type": "code",
      "metadata": {
        "id": "27oTawaljZBu"
      },
      "source": [
        "import psycopg2\n",
        "from psycopg2 import pool\n",
        "from psycopg2.extras import RealDictCursor"
      ],
      "execution_count": 2,
      "outputs": []
    },
    {
      "cell_type": "code",
      "metadata": {
        "id": "qBfy-ym4kBLA"
      },
      "source": [
        "import pandas as pd\n",
        "import pyarrow as pa\n",
        "import pyarrow.parquet as pq\n",
        "import numpy as np"
      ],
      "execution_count": 3,
      "outputs": []
    },
    {
      "cell_type": "code",
      "metadata": {
        "colab": {
          "base_uri": "https://localhost:8080/"
        },
        "id": "RZMP7A1gkEKv",
        "outputId": "0bb45784-f69c-4904-c2a5-d0658b8dcc7a"
      },
      "source": [
        "try:\n",
        "  postgresQL_pool = psycopg2.pool.SimpleConnectionPool(1, 20, user=\"metrics\", \n",
        "                                                       password=\"BOsb8j0Au05ehlPw\",\n",
        "                                                       host=\"la-mamalona.99minutos.app\",\n",
        "                                                       port=\"5432\",\n",
        "                                                       database=\"pr99minutoscom\")\n",
        "  if (postgresQL_pool):\n",
        "    print(\"Connection pool created successfully\")\n",
        "\n",
        "  # use getcon() to get cnnection from connection pool\n",
        "  ps_connection = postgresQL_pool.getconn()\n",
        "\n",
        "  if (ps_connection):\n",
        "    print(\"sucdessfully recived connection from connection pool\")\n",
        "    ps_cursor = ps_connection.cursor(cursor_factory=RealDictCursor)\n",
        "    dateString = '2021-01-01'\n",
        "\n",
        "\n",
        "    sqlSentence = \"\"\"SELECT CAST(o.id AS INTEGER) AS orderid,\n",
        "                                        COALESCE(CAST(o.tripid AS VARCHAR), '0') AS idtrip,\n",
        "                                        CAST(o.trackingid AS VARCHAR) AS trackingid,\n",
        "                                        CAST(o.counter AS BIGINT) AS counter,\n",
        "                                        COALESCE(CAST(o.receivedorderid AS VARCHAR), '0') AS receivedorderid,\n",
        "                                        COALESCE(CAST(o.packages AS INTEGER), 0) AS packages,\n",
        "                                        CAST(o.packagesize AS VARCHAR) AS packagesize,\n",
        "                                        COALESCE(CAST(o.finalprice AS DECIMAL), 0.0) AS finalprice,\n",
        "                                        COALESCE(CAST(o.finalgrossprice AS DECIMAL), 0.0) AS finalgrossprice,\n",
        "                                        COALESCE(CAST(o.grossprice AS DECIMAL), 0.0) AS grossprice,\n",
        "                                        COALESCE(CAST(o.price AS DECIMAL), 0.0) AS price,\n",
        "                                        COALESCE(CAST(o.insured AS DECIMAL), 0.0) AS insured,\n",
        "                                        COALESCE(CAST(o.amount AS DECIMAL), 0.0) AS costamount,\n",
        "                                        COALESCE(CAST(o.cost AS DECIMAL), 0.0) AS costpay,\n",
        "                                        CAST(o.isrecolect AS BOOL) AS recolect,\n",
        "                                        CAST(o.returnc AS BOOL) AS returnc,\n",
        "                                        CAST(o.isreturnable AS BOOL ) AS isreturnable,\n",
        "                                        CAST(o.haspaid AS BOOL) AS haspaid,\n",
        "                                        COALESCE(CAST(regexp_replace(o.barcode, E'[\\\\n\\\\r]+', ' ', 'g' ) AS VARCHAR), 'None') AS barcode,\n",
        "                                        CAST(replace(o.notes, ',', '') AS VARCHAR) AS notesorder,\n",
        "                                        CAST(COALESCE(o.driverid, 0) AS INTEGER) AS driverid,\n",
        "                                        CAST(o.billingid AS INTEGER) AS billingid,\n",
        "                                        CAST(o.rating AS INTEGER) AS rating,\n",
        "                                        CAST(o.created AS TIMESTAMP) AS created,\n",
        "                                        CAST(o.currentstatus AS VARCHAR) AS currentstatus,\n",
        "                                        COALESCE(CAST(o.zone_id AS VARCHAR), '') AS zone_id,\n",
        "                                        COALESCE(CAST(o.parentorder AS BIGINT), 0) AS parentorder,\n",
        "                                        CAST(o.created_at AS TIMESTAMP) AS created_at_orders,\n",
        "                                        COALESCE(CAST(lp.id AS INTEGER), 0) AS logid,\n",
        "                                        CAST(lp.statusid AS VARCHAR) AS status,\n",
        "                                        COALESCE(CAST(lp.driverid AS INTEGER), 0) AS driverstatus,\n",
        "                                        CAST(lp.comment AS VARCHAR) AS comment,\n",
        "                                        CAST(lp.note AS VARCHAR) AS notas,\n",
        "                                        COALESCE(CAST(lp.commentclient AS VARCHAR), 'None') AS commentclient,\n",
        "                                        CAST(lp.created AS TIMESTAMP) AS datestatus,\n",
        "                                        CAST(lp.created_at AS TIMESTAMP) AS created_at_logsorders,\n",
        "                                        CAST(replace(cda.route, ',', '') AS VARCHAR) AS destinationroute,\n",
        "                                        CAST(cda.zipcode AS VARCHAR) AS destinationzipcode,\n",
        "                                        CASE\n",
        "                                            WHEN char_length(cda.lat) = 0 THEN CAST(0 AS FLOAT)\n",
        "                                            ELSE CAST(COALESCE(substring(cda.lat, 1, 10), '0') AS FLOAT)\n",
        "                                        END AS destinationlat,\n",
        "                                        CASE\n",
        "                                            WHEN char_length(cda.long) = 0 THEN CAST(0 AS FLOAT)\n",
        "                                            ELSE CAST(COALESCE(substring(cda.long, 1, 10), '0') AS FLOAT)\n",
        "                                        END AS destinationlong,\n",
        "                                        COALESCE(CAST(cda.neighborhood AS VARCHAR), 'None') AS coloniadestination,\n",
        "                                        CAST(replace(cpa.route, ',', '') AS VARCHAR) AS pickuproute,\n",
        "                                        CAST(cpa.zipcode AS VARCHAR) AS pickupzipcode,\n",
        "                                        CASE\n",
        "                                            WHEN char_length(cpa.lat) = 0 THEN CAST(0 AS FLOAT)\n",
        "                                            ELSE CAST(COALESCE(substring(cpa.lat, 1, 10), '0') AS FLOAT)\n",
        "                                        END AS pickuplat,\n",
        "                                        CASE\n",
        "                                            WHEN char_length(cpa.long) = 0 THEN CAST(0 AS FLOAT)\n",
        "                                            ELSE CAST(COALESCE(substring(cpa.long, 1, 10), '0') AS FLOAT)\n",
        "                                        END AS pickuplong,\n",
        "                                        COALESCE(CAST(cpa.neighborhood AS VARCHAR), 'None') AS coloniaorigin,\n",
        "                                        CAST(ctd.id AS INTEGER) AS typeid,\n",
        "                                        COALESCE(CAST(d.userid AS INTEGER), 0) AS iduserdriver,\n",
        "                                        COALESCE(CAST(d.phone AS VARCHAR), 'None') AS driverphone,\n",
        "                                        COALESCE(CAST(d.driversuser AS VARCHAR), 'None') AS driversuser,\n",
        "                                        COALESCE(CAST(d.driversname AS VARCHAR), 'None') AS driversname,\n",
        "                                        COALESCE(CAST(d.assigns AS VARCHAR), 'None') AS assigns,\n",
        "                                        COALESCE(CAST(d.vehiclesid AS INTEGER), 0) AS vehiclesid,\n",
        "                                        COALESCE(CAST(d.basesalary AS DECIMAL), 0) AS basesalary,\n",
        "                                        COALESCE(CAST(ctv.vehicle AS VARCHAR), 'None') AS vehicle,\n",
        "                                        CAST(u.id AS INTEGER) AS userid,\n",
        "                                        CAST(u.company AS VARCHAR) AS company,\n",
        "                                        CAST(u.country AS VARCHAR) AS country,\n",
        "                                        CAST(u.role AS VARCHAR) AS role,\n",
        "                                        CAST(u.created AS TIMESTAMP) AS usercreated,\n",
        "                                        CAST(u.lastlogin AS TIMESTAMP) AS userlastlogin,\n",
        "                                        CAST(u.parentid AS INTEGER) AS parentid,\n",
        "                                        COALESCE(CAST(u.size_id AS INTEGER), 0) AS size_id,\n",
        "                                        COALESCE(CAST(csta.id AS INTEGER), 0) AS stationid,\n",
        "                                        COALESCE(CAST(csta.code AS VARCHAR), 'None') AS stationcode,\n",
        "                                        TO_CHAR(o.created :: time, 'HH24:MI:SS') AS createdtime,\n",
        "                                        CAST(o.datedelivery AS TIMESTAMP) AS datedelivery,\n",
        "                                        CAST(CASE\n",
        "                                            WHEN  CAST(TO_CHAR(o.created :: time, 'HH24:MI:SS') AS TIME ) >= '15:00:00' AND\n",
        "                                                CAST(TO_CHAR(o.created :: time, 'HH24:MI:SS') AS TIME ) <= '23:00:00'\n",
        "                                            THEN 'En Rango'\n",
        "                                            ELSE 'Fuera'\n",
        "                                            END AS VARCHAR)\n",
        "                                        AS deliverysuccess,\n",
        "                                        CAST(DATE_PART('day', o.created :: timestamp - o.datedelivery :: timestamp) * 24 +\n",
        "                                        DATE_PART('hour', o.created :: timestamp - o.datedelivery :: timestamp) AS INTEGER)\n",
        "                                        AS datediff                                      \n",
        "                                FROM  orders o LEFT JOIN logsorders lp ON o.id = lp.orderid\n",
        "                                        LEFT JOIN catdestinationadress cda ON cda.id = o.destionationadressid\n",
        "                                        LEFT JOIN catpickupadress cpa ON cpa.id = o.pickupadressid\n",
        "                                        LEFT JOIN catypedeliveries ctd ON ctd.id = o.deliverytypeid\n",
        "                                        LEFT JOIN drivers d ON d.id = o.driverid\n",
        "                                        LEFT JOIN catvehicles ctv ON ctv.id = d.vehiclesid\n",
        "                                        LEFT JOIN useraccounts u ON o.userid = u.id\n",
        "                                        LEFT JOIN catstation csta ON csta.id = lp.station_id\n",
        "                                WHERE   o.created BETWEEN '{0} 00:00:00' and '{0} 23:59:59'\n",
        "                                ORDER BY o.id asc\"\"\".format(dateString)\n",
        "    ps_cursor.execute(sqlSentence)\n",
        "    data_records = ps_cursor.fetchall()\n",
        "    data_frame = pd.DataFrame(data_records)\n",
        "\n",
        "except (Exception, psycopg2.DatabaseError) as error:\n",
        "  print(\"error while connection to PostgreSQL\", error)\n",
        "\n",
        "finally:\n",
        "  # closing database connection\n",
        "  # use closeall() method to close all the active connection If you wnat to turn of the application\n",
        "  if postgresQL_pool:\n",
        "    postgresQL_pool.closeall\n",
        "  print(\"postgreSQL connection pool is closed\")"
      ],
      "execution_count": 73,
      "outputs": [
        {
          "output_type": "stream",
          "text": [
            "Connection pool created successfully\n",
            "sucdessfully recived connection from connection pool\n",
            "postgreSQL connection pool is closed\n"
          ],
          "name": "stdout"
        }
      ]
    },
    {
      "cell_type": "code",
      "metadata": {
        "colab": {
          "base_uri": "https://localhost:8080/"
        },
        "id": "qYszcCIQnjEp",
        "outputId": "d30414cc-b7e2-4b1d-e9fd-cc6ef185d88f"
      },
      "source": [
        "print(list(data_frame))"
      ],
      "execution_count": 74,
      "outputs": [
        {
          "output_type": "stream",
          "text": [
            "['orderid', 'idtrip', 'trackingid', 'counter', 'receivedorderid', 'packages', 'packagesize', 'finalprice', 'finalgrossprice', 'grossprice', 'price', 'insured', 'costamount', 'costpay', 'recolect', 'returnc', 'isreturnable', 'haspaid', 'barcode', 'notesorder', 'driverid', 'billingid', 'rating', 'created', 'currentstatus', 'zone_id', 'parentorder', 'created_at_orders', 'logid', 'status', 'driverstatus', 'comment', 'notas', 'commentclient', 'datestatus', 'created_at_logsorders', 'destinationroute', 'destinationzipcode', 'destinationlat', 'destinationlong', 'coloniadestination', 'pickuproute', 'pickupzipcode', 'pickuplat', 'pickuplong', 'coloniaorigin', 'typeid', 'iduserdriver', 'driverphone', 'driversuser', 'driversname', 'assigns', 'vehiclesid', 'basesalary', 'vehicle', 'userid', 'company', 'country', 'role', 'usercreated', 'userlastlogin', 'parentid', 'size_id', 'stationid', 'stationcode', 'createdtime', 'datedelivery', 'deliverysuccess', 'datediff']\n"
          ],
          "name": "stdout"
        }
      ]
    },
    {
      "cell_type": "code",
      "metadata": {
        "colab": {
          "base_uri": "https://localhost:8080/",
          "height": 419
        },
        "id": "AVJ0fn-imnBb",
        "outputId": "19718828-dad5-43a1-8979-70683ddd976d"
      },
      "source": [
        "data_frame[['status' , 'notas', 'createdtime']]"
      ],
      "execution_count": 75,
      "outputs": [
        {
          "output_type": "execute_result",
          "data": {
            "text/html": [
              "<div>\n",
              "<style scoped>\n",
              "    .dataframe tbody tr th:only-of-type {\n",
              "        vertical-align: middle;\n",
              "    }\n",
              "\n",
              "    .dataframe tbody tr th {\n",
              "        vertical-align: top;\n",
              "    }\n",
              "\n",
              "    .dataframe thead th {\n",
              "        text-align: right;\n",
              "    }\n",
              "</style>\n",
              "<table border=\"1\" class=\"dataframe\">\n",
              "  <thead>\n",
              "    <tr style=\"text-align: right;\">\n",
              "      <th></th>\n",
              "      <th>status</th>\n",
              "      <th>notas</th>\n",
              "      <th>createdtime</th>\n",
              "    </tr>\n",
              "  </thead>\n",
              "  <tbody>\n",
              "    <tr>\n",
              "      <th>0</th>\n",
              "      <td>6</td>\n",
              "      <td>Terminado (devolución) por: erick.gomez en la ...</td>\n",
              "      <td>00:49:03</td>\n",
              "    </tr>\n",
              "    <tr>\n",
              "      <th>1</th>\n",
              "      <td>4</td>\n",
              "      <td>Cambiado a la estación por Pamela el número de...</td>\n",
              "      <td>00:49:03</td>\n",
              "    </tr>\n",
              "    <tr>\n",
              "      <th>2</th>\n",
              "      <td>2</td>\n",
              "      <td>Recolectada por el veloz Don Veloz CHL 2020101...</td>\n",
              "      <td>00:49:03</td>\n",
              "    </tr>\n",
              "    <tr>\n",
              "      <th>3</th>\n",
              "      <td>100</td>\n",
              "      <td>Orden 84981031001 Recoleccion  catalina.mellad...</td>\n",
              "      <td>00:49:03</td>\n",
              "    </tr>\n",
              "    <tr>\n",
              "      <th>4</th>\n",
              "      <td>1</td>\n",
              "      <td>#id{\"OrderNumber\": \"402534548809\", \"CustomerOr...</td>\n",
              "      <td>00:49:03</td>\n",
              "    </tr>\n",
              "    <tr>\n",
              "      <th>...</th>\n",
              "      <td>...</td>\n",
              "      <td>...</td>\n",
              "      <td>...</td>\n",
              "    </tr>\n",
              "    <tr>\n",
              "      <th>10132</th>\n",
              "      <td>1</td>\n",
              "      <td>#id | Cobro: No |  Recibe: Juan Eduardo Romo L...</td>\n",
              "      <td>23:57:51</td>\n",
              "    </tr>\n",
              "    <tr>\n",
              "      <th>10133</th>\n",
              "      <td>4</td>\n",
              "      <td>Cambiado a la estación por operarios.tultitlan...</td>\n",
              "      <td>23:59:10</td>\n",
              "    </tr>\n",
              "    <tr>\n",
              "      <th>10134</th>\n",
              "      <td>6</td>\n",
              "      <td>Finalizada por el veloz DON VELOZ IS TULTI 000</td>\n",
              "      <td>23:59:10</td>\n",
              "    </tr>\n",
              "    <tr>\n",
              "      <th>10135</th>\n",
              "      <td>1</td>\n",
              "      <td>#id | Cobro: No | Recibe: Christopher Hafid Ga...</td>\n",
              "      <td>23:59:10</td>\n",
              "    </tr>\n",
              "    <tr>\n",
              "      <th>10136</th>\n",
              "      <td>3</td>\n",
              "      <td>Auto-rea-asignada por el veloz DON VELOZ IS TU...</td>\n",
              "      <td>23:59:10</td>\n",
              "    </tr>\n",
              "  </tbody>\n",
              "</table>\n",
              "<p>10137 rows × 3 columns</p>\n",
              "</div>"
            ],
            "text/plain": [
              "      status                                              notas createdtime\n",
              "0          6  Terminado (devolución) por: erick.gomez en la ...    00:49:03\n",
              "1          4  Cambiado a la estación por Pamela el número de...    00:49:03\n",
              "2          2  Recolectada por el veloz Don Veloz CHL 2020101...    00:49:03\n",
              "3        100  Orden 84981031001 Recoleccion  catalina.mellad...    00:49:03\n",
              "4          1  #id{\"OrderNumber\": \"402534548809\", \"CustomerOr...    00:49:03\n",
              "...      ...                                                ...         ...\n",
              "10132      1  #id | Cobro: No |  Recibe: Juan Eduardo Romo L...    23:57:51\n",
              "10133      4  Cambiado a la estación por operarios.tultitlan...    23:59:10\n",
              "10134      6     Finalizada por el veloz DON VELOZ IS TULTI 000    23:59:10\n",
              "10135      1  #id | Cobro: No | Recibe: Christopher Hafid Ga...    23:59:10\n",
              "10136      3  Auto-rea-asignada por el veloz DON VELOZ IS TU...    23:59:10\n",
              "\n",
              "[10137 rows x 3 columns]"
            ]
          },
          "metadata": {
            "tags": []
          },
          "execution_count": 75
        }
      ]
    },
    {
      "cell_type": "code",
      "metadata": {
        "colab": {
          "base_uri": "https://localhost:8080/"
        },
        "id": "BqcXjowtf9Cr",
        "outputId": "f49b8cc1-0b7e-4c51-d8b8-736743453de3"
      },
      "source": [
        "data_frame.dtypes"
      ],
      "execution_count": 76,
      "outputs": [
        {
          "output_type": "execute_result",
          "data": {
            "text/plain": [
              "orderid                     int64\n",
              "idtrip                     object\n",
              "trackingid                 object\n",
              "counter                     int64\n",
              "receivedorderid            object\n",
              "                        ...      \n",
              "stationcode                object\n",
              "createdtime                object\n",
              "datedelivery       datetime64[ns]\n",
              "deliverysuccess            object\n",
              "datediff                    int64\n",
              "Length: 69, dtype: object"
            ]
          },
          "metadata": {
            "tags": []
          },
          "execution_count": 76
        }
      ]
    },
    {
      "cell_type": "code",
      "metadata": {
        "id": "EmFUwMvGhtZ-"
      },
      "source": [
        "import datetime as dt"
      ],
      "execution_count": 54,
      "outputs": []
    },
    {
      "cell_type": "code",
      "metadata": {
        "id": "NFxV7awShz3T"
      },
      "source": [
        ""
      ],
      "execution_count": null,
      "outputs": []
    },
    {
      "cell_type": "code",
      "metadata": {
        "id": "wH_sm672RlRw"
      },
      "source": [
        ""
      ],
      "execution_count": null,
      "outputs": []
    },
    {
      "cell_type": "code",
      "metadata": {
        "id": "tkqGK15yhz7M"
      },
      "source": [
        ""
      ],
      "execution_count": null,
      "outputs": []
    },
    {
      "cell_type": "code",
      "metadata": {
        "id": "UcAA2ax6hz_B"
      },
      "source": [
        ""
      ],
      "execution_count": null,
      "outputs": []
    },
    {
      "cell_type": "code",
      "metadata": {
        "id": "07g46CIDgHWx"
      },
      "source": [
        ""
      ],
      "execution_count": null,
      "outputs": []
    },
    {
      "cell_type": "code",
      "metadata": {
        "id": "WBfsloeygHdR"
      },
      "source": [
        ""
      ],
      "execution_count": null,
      "outputs": []
    },
    {
      "cell_type": "code",
      "metadata": {
        "colab": {
          "base_uri": "https://localhost:8080/"
        },
        "id": "LTnrMnKhIzHR",
        "outputId": "591ec65b-857e-4764-8ad0-234b48c12497"
      },
      "source": [
        "data_frame['notas'].str.findall('Orden')"
      ],
      "execution_count": null,
      "outputs": [
        {
          "output_type": "execute_result",
          "data": {
            "text/plain": [
              "0             []\n",
              "1             []\n",
              "2             []\n",
              "3             []\n",
              "4        [Orden]\n",
              "          ...   \n",
              "88120         []\n",
              "88121         []\n",
              "88122         []\n",
              "88123         []\n",
              "88124         []\n",
              "Name: notas, Length: 88125, dtype: object"
            ]
          },
          "metadata": {
            "tags": []
          },
          "execution_count": 6
        }
      ]
    },
    {
      "cell_type": "code",
      "metadata": {
        "id": "gs_m5vLeYY2D"
      },
      "source": [
        "#data_frame['notas'] = data_frame['notas'].str.findall('Orden')\n"
      ],
      "execution_count": null,
      "outputs": []
    },
    {
      "cell_type": "code",
      "metadata": {
        "colab": {
          "base_uri": "https://localhost:8080/"
        },
        "id": "MFpSE5P4Fq-U",
        "outputId": "72fe91b7-c1bf-4d2e-e56e-371c9ce500aa"
      },
      "source": [
        "#data_frame['notas'] = data_frame['notas'].str.replace(data_frame['notas'].str.findall('Orden'), 'Orden del dia')\n",
        "data_frame['notas'].str.contains('Orden')"
      ],
      "execution_count": null,
      "outputs": [
        {
          "output_type": "execute_result",
          "data": {
            "text/plain": [
              "0        False\n",
              "1        False\n",
              "2        False\n",
              "3        False\n",
              "4         True\n",
              "         ...  \n",
              "88120    False\n",
              "88121    False\n",
              "88122    False\n",
              "88123    False\n",
              "88124    False\n",
              "Name: notas, Length: 88125, dtype: bool"
            ]
          },
          "metadata": {
            "tags": []
          },
          "execution_count": 8
        }
      ]
    },
    {
      "cell_type": "code",
      "metadata": {
        "id": "yDsdUqp7OI-O"
      },
      "source": [
        "motivo = {\n",
        "    'Cliente Ausente', \n",
        "    'Cliente No Localizable', \n",
        "    'Domicilio Incorrecto', \n",
        "    'Rechaza Paquete', \n",
        "    'Robo', \n",
        "    'Extravio', \n",
        "    'Establecimiento Cerrado', \n",
        "    'El Mensajero No Llega Por Tráfico',\n",
        "    'Daño De Paquete',\n",
        "    'Cliente Recoge Paquete En Sucursal'\n",
        "    }"
      ],
      "execution_count": null,
      "outputs": []
    },
    {
      "cell_type": "code",
      "metadata": {
        "id": "lW8bmUB-PEP1"
      },
      "source": [
        "for mot in motivo:\n",
        "  data_frame.loc[data_frame['notas'].str.contains(mot), 'notas'] = mot"
      ],
      "execution_count": null,
      "outputs": []
    },
    {
      "cell_type": "code",
      "metadata": {
        "id": "oOhsLjU4PEeG"
      },
      "source": [
        "data_frame.loc[data_frame.status.isin(['3', '10', '17']), 'notas'] = 'Auto Reasignado'"
      ],
      "execution_count": null,
      "outputs": []
    },
    {
      "cell_type": "code",
      "metadata": {
        "id": "D63_Hts417OS"
      },
      "source": [
        ""
      ],
      "execution_count": null,
      "outputs": []
    },
    {
      "cell_type": "code",
      "metadata": {
        "id": "vr5WsZ11NhOF"
      },
      "source": [
        "data_frame.loc[data_frame['notas'].str.contains('Orden'), 'notas'] = 'Orden del dia'"
      ],
      "execution_count": null,
      "outputs": []
    },
    {
      "cell_type": "code",
      "metadata": {
        "colab": {
          "base_uri": "https://localhost:8080/",
          "height": 419
        },
        "id": "ei-Yj91DIHct",
        "outputId": "f1f7f397-8ae4-430d-f26d-597632b8a3d9"
      },
      "source": [
        "data_frame[['status' , 'notas']]"
      ],
      "execution_count": null,
      "outputs": [
        {
          "output_type": "execute_result",
          "data": {
            "text/html": [
              "<div>\n",
              "<style scoped>\n",
              "    .dataframe tbody tr th:only-of-type {\n",
              "        vertical-align: middle;\n",
              "    }\n",
              "\n",
              "    .dataframe tbody tr th {\n",
              "        vertical-align: top;\n",
              "    }\n",
              "\n",
              "    .dataframe thead th {\n",
              "        text-align: right;\n",
              "    }\n",
              "</style>\n",
              "<table border=\"1\" class=\"dataframe\">\n",
              "  <thead>\n",
              "    <tr style=\"text-align: right;\">\n",
              "      <th></th>\n",
              "      <th>status</th>\n",
              "      <th>notas</th>\n",
              "    </tr>\n",
              "  </thead>\n",
              "  <tbody>\n",
              "    <tr>\n",
              "      <th>0</th>\n",
              "      <td>1</td>\n",
              "      <td>#id10000034428 | Cobro: No |  Recibe: nancy la...</td>\n",
              "    </tr>\n",
              "    <tr>\n",
              "      <th>1</th>\n",
              "      <td>1</td>\n",
              "      <td>#id7353829 | Cobro: No |  Recibe: Nicolas Vene...</td>\n",
              "    </tr>\n",
              "    <tr>\n",
              "      <th>2</th>\n",
              "      <td>1</td>\n",
              "      <td>#id2000149710 | Cobro: No |  Recibe: CAROLINA ...</td>\n",
              "    </tr>\n",
              "    <tr>\n",
              "      <th>3</th>\n",
              "      <td>6</td>\n",
              "      <td>carlos, Titular,</td>\n",
              "    </tr>\n",
              "    <tr>\n",
              "      <th>4</th>\n",
              "      <td>3</td>\n",
              "      <td>Auto Reasignado</td>\n",
              "    </tr>\n",
              "    <tr>\n",
              "      <th>...</th>\n",
              "      <td>...</td>\n",
              "      <td>...</td>\n",
              "    </tr>\n",
              "    <tr>\n",
              "      <th>88120</th>\n",
              "      <td>1</td>\n",
              "      <td>#id1123041238181832 | Cobro: No | Recibe: null...</td>\n",
              "    </tr>\n",
              "    <tr>\n",
              "      <th>88121</th>\n",
              "      <td>1</td>\n",
              "      <td>#id1123041238181865 | Cobro: No | Recibe: null...</td>\n",
              "    </tr>\n",
              "    <tr>\n",
              "      <th>88122</th>\n",
              "      <td>1</td>\n",
              "      <td>#id1123041238181873 | Cobro: No | Recibe: null...</td>\n",
              "    </tr>\n",
              "    <tr>\n",
              "      <th>88123</th>\n",
              "      <td>1</td>\n",
              "      <td>#id1123041238181881 | Cobro: No | Recibe: null...</td>\n",
              "    </tr>\n",
              "    <tr>\n",
              "      <th>88124</th>\n",
              "      <td>1</td>\n",
              "      <td>#id1123041238181899 | Cobro: No | Recibe: null...</td>\n",
              "    </tr>\n",
              "  </tbody>\n",
              "</table>\n",
              "<p>88125 rows × 2 columns</p>\n",
              "</div>"
            ],
            "text/plain": [
              "      status                                              notas\n",
              "0          1  #id10000034428 | Cobro: No |  Recibe: nancy la...\n",
              "1          1  #id7353829 | Cobro: No |  Recibe: Nicolas Vene...\n",
              "2          1  #id2000149710 | Cobro: No |  Recibe: CAROLINA ...\n",
              "3          6                                  carlos, Titular, \n",
              "4          3                                    Auto Reasignado\n",
              "...      ...                                                ...\n",
              "88120      1  #id1123041238181832 | Cobro: No | Recibe: null...\n",
              "88121      1  #id1123041238181865 | Cobro: No | Recibe: null...\n",
              "88122      1  #id1123041238181873 | Cobro: No | Recibe: null...\n",
              "88123      1  #id1123041238181881 | Cobro: No | Recibe: null...\n",
              "88124      1  #id1123041238181899 | Cobro: No | Recibe: null...\n",
              "\n",
              "[88125 rows x 2 columns]"
            ]
          },
          "metadata": {
            "tags": []
          },
          "execution_count": 13
        }
      ]
    },
    {
      "cell_type": "code",
      "metadata": {
        "id": "v_KJTUdaILRc"
      },
      "source": [
        ""
      ],
      "execution_count": null,
      "outputs": []
    }
  ]
}